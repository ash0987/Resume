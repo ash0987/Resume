{
  "nbformat": 4,
  "nbformat_minor": 0,
  "metadata": {
    "colab": {
      "name": "Mini-Project-Model.ipynb",
      "provenance": [],
      "collapsed_sections": [],
      "mount_file_id": "1i2FNyoJluRhM-6K95UTmwuEgGusWwuR-",
      "authorship_tag": "ABX9TyPUGPgXMbtTdRvQNiLFsdgO",
      "include_colab_link": true
    },
    "kernelspec": {
      "name": "python3",
      "display_name": "Python 3"
    },
    "language_info": {
      "name": "python"
    }
  },
  "cells": [
    {
      "cell_type": "markdown",
      "metadata": {
        "id": "view-in-github",
        "colab_type": "text"
      },
      "source": [
        "<a href=\"https://colab.research.google.com/github/ash0987/Resume/blob/master/Mini_Project_Model.ipynb\" target=\"_parent\"><img src=\"https://colab.research.google.com/assets/colab-badge.svg\" alt=\"Open In Colab\"/></a>"
      ]
    },
    {
      "cell_type": "code",
      "metadata": {
        "id": "i2hNjavud_TG"
      },
      "source": [
        "import numpy as np\n",
        "import pandas as pd\n",
        "from skimage.io import imread\n",
        "from skimage.transform import resize\n",
        "import matplotlib.pyplot as plt\n",
        "import os\n",
        "from skimage.color import rgb2gray \n",
        "from sklearn.model_selection import GridSearchCV\n",
        "from sklearn import svm\n",
        "from sklearn.metrics import confusion_matrix, accuracy_score, classification_report\n",
        "from xgboost import XGBClassifier"
      ],
      "execution_count": 1,
      "outputs": []
    },
    {
      "cell_type": "code",
      "metadata": {
        "id": "o_hLd4BneJCr"
      },
      "source": [
        "cat= {'a':0,'b':1,'m':2,'o':3}"
      ],
      "execution_count": 2,
      "outputs": []
    },
    {
      "cell_type": "code",
      "metadata": {
        "id": "EiM7kwYxetvq"
      },
      "source": [
        "def getData(s):\n",
        "  path = os.path.join('/content/drive/MyDrive/mini project/',s)\n",
        "  x=[]\n",
        "  y=[]\n",
        "  for i in os.listdir(path):\n",
        "    img = imread(os.path.join(path,i))\n",
        "    img = resize(img,(100,100,3))\n",
        "    img = rgb2gray(img)\n",
        "    flatten_img = np.ndarray.flatten(img)\n",
        "    x.append(flatten_img)\n",
        "    y.append(cat[i[0]])\n",
        "  data=np.array(x)\n",
        "  target=np.array(y)\n",
        "  return data, target"
      ],
      "execution_count": 3,
      "outputs": []
    },
    {
      "cell_type": "code",
      "metadata": {
        "id": "f1XYj_6Xi1oS"
      },
      "source": [
        "x_train,y_train = getData('train')\n",
        "x_test,y_test = getData('test')"
      ],
      "execution_count": 4,
      "outputs": []
    },
    {
      "cell_type": "code",
      "metadata": {
        "colab": {
          "base_uri": "https://localhost:8080/"
        },
        "id": "nybsRfvHnVpk",
        "outputId": "ba8c95cf-8080-4146-a516-d48fe025d196"
      },
      "source": [
        "np.unique(y_train,return_counts=True)"
      ],
      "execution_count": 5,
      "outputs": [
        {
          "output_type": "execute_result",
          "data": {
            "text/plain": [
              "(array([0, 1, 2, 3]), array([75, 73, 20, 72]))"
            ]
          },
          "metadata": {
            "tags": []
          },
          "execution_count": 5
        }
      ]
    },
    {
      "cell_type": "code",
      "metadata": {
        "colab": {
          "base_uri": "https://localhost:8080/"
        },
        "id": "uUUupGY5n9rd",
        "outputId": "8c7e9e96-de66-4637-d724-90905f901c2f"
      },
      "source": [
        "np.unique(y_test,return_counts=True)"
      ],
      "execution_count": 6,
      "outputs": [
        {
          "output_type": "execute_result",
          "data": {
            "text/plain": [
              "(array([0, 1, 2, 3]), array([19, 18,  5, 18]))"
            ]
          },
          "metadata": {
            "tags": []
          },
          "execution_count": 6
        }
      ]
    },
    {
      "cell_type": "code",
      "metadata": {
        "id": "FRHTKzI9pfTT"
      },
      "source": [
        "#Using SVM"
      ],
      "execution_count": 7,
      "outputs": []
    },
    {
      "cell_type": "code",
      "metadata": {
        "id": "eGSiq-wDzO1Y"
      },
      "source": [
        "gamma=[1,0.01,0.001,0.0001]\n",
        "C=[0.1,1,10,100]"
      ],
      "execution_count": 8,
      "outputs": []
    },
    {
      "cell_type": "code",
      "metadata": {
        "id": "6XHsBt3o95w5"
      },
      "source": [
        "# Checking with SVM"
      ],
      "execution_count": 9,
      "outputs": []
    },
    {
      "cell_type": "code",
      "metadata": {
        "colab": {
          "base_uri": "https://localhost:8080/"
        },
        "id": "XIp3mmVP1XTI",
        "outputId": "f117f127-eaa2-4024-f32a-703cdf17c200"
      },
      "source": [
        "param_grid = { 'gamma':gamma,'C':C, 'kernel':['rbf','linear','poly']}\n",
        "svc = svm.SVC()\n",
        "clf = GridSearchCV(svc, param_grid)\n",
        "clf.fit(x_train, y_train)\n",
        "\n",
        "clf.best_params_"
      ],
      "execution_count": 10,
      "outputs": [
        {
          "output_type": "execute_result",
          "data": {
            "text/plain": [
              "{'C': 10, 'gamma': 0.001, 'kernel': 'rbf'}"
            ]
          },
          "metadata": {
            "tags": []
          },
          "execution_count": 10
        }
      ]
    },
    {
      "cell_type": "code",
      "metadata": {
        "colab": {
          "base_uri": "https://localhost:8080/"
        },
        "id": "n1jr20_P6jYA",
        "outputId": "6515397c-64ec-475c-a685-e246cfd815b4"
      },
      "source": [
        "y_pred=clf.predict(x_test)\n",
        "print(classification_report(y_test,y_pred))\n",
        "print(confusion_matrix(y_test,y_pred))"
      ],
      "execution_count": 11,
      "outputs": [
        {
          "output_type": "stream",
          "text": [
            "              precision    recall  f1-score   support\n",
            "\n",
            "           0       0.77      0.89      0.83        19\n",
            "           1       0.68      0.72      0.70        18\n",
            "           2       1.00      0.20      0.33         5\n",
            "           3       0.67      0.67      0.67        18\n",
            "\n",
            "    accuracy                           0.72        60\n",
            "   macro avg       0.78      0.62      0.63        60\n",
            "weighted avg       0.73      0.72      0.70        60\n",
            "\n",
            "[[17  1  0  1]\n",
            " [ 2 13  0  3]\n",
            " [ 1  1  1  2]\n",
            " [ 2  4  0 12]]\n"
          ],
          "name": "stdout"
        }
      ]
    },
    {
      "cell_type": "code",
      "metadata": {
        "id": "SWFV5p2T9-or"
      },
      "source": [
        "# Checking with XGBClassifier"
      ],
      "execution_count": 12,
      "outputs": []
    },
    {
      "cell_type": "code",
      "metadata": {
        "id": "GrrqU6Y-9HGR"
      },
      "source": [
        "param_grid = {\n",
        "    'colsample_bytree': [0.7, 0.8],\n",
        "    'max_depth': [10,15]\n",
        "}"
      ],
      "execution_count": 15,
      "outputs": []
    },
    {
      "cell_type": "code",
      "metadata": {
        "colab": {
          "base_uri": "https://localhost:8080/"
        },
        "id": "073nT4Kc-Nyy",
        "outputId": "5a62e60c-c2ae-4571-c787-a350a0eba227"
      },
      "source": [
        "model = XGBClassifier()\n",
        "clf = GridSearchCV(model, param_grid)\n",
        "clf.fit(x_train, y_train)\n",
        "\n",
        "clf.best_params_"
      ],
      "execution_count": 16,
      "outputs": [
        {
          "output_type": "execute_result",
          "data": {
            "text/plain": [
              "{'colsample_bytree': 0.7, 'max_depth': 10}"
            ]
          },
          "metadata": {
            "tags": []
          },
          "execution_count": 16
        }
      ]
    },
    {
      "cell_type": "code",
      "metadata": {
        "colab": {
          "base_uri": "https://localhost:8080/"
        },
        "id": "LyianwoTJLM6",
        "outputId": "d5191309-f4ea-45f6-a718-00351693809f"
      },
      "source": [
        "y_pred=clf.predict(x_test)\n",
        "print(classification_report(y_test,y_pred))\n",
        "print(confusion_matrix(y_test,y_pred))"
      ],
      "execution_count": 17,
      "outputs": [
        {
          "output_type": "stream",
          "text": [
            "              precision    recall  f1-score   support\n",
            "\n",
            "           0       0.78      0.95      0.86        19\n",
            "           1       0.81      0.72      0.76        18\n",
            "           2       0.00      0.00      0.00         5\n",
            "           3       0.67      0.78      0.72        18\n",
            "\n",
            "    accuracy                           0.75        60\n",
            "   macro avg       0.57      0.61      0.58        60\n",
            "weighted avg       0.69      0.75      0.72        60\n",
            "\n",
            "[[18  0  0  1]\n",
            " [ 1 13  0  4]\n",
            " [ 2  1  0  2]\n",
            " [ 2  2  0 14]]\n"
          ],
          "name": "stdout"
        },
        {
          "output_type": "stream",
          "text": [
            "/usr/local/lib/python3.7/dist-packages/sklearn/metrics/_classification.py:1272: UndefinedMetricWarning: Precision and F-score are ill-defined and being set to 0.0 in labels with no predicted samples. Use `zero_division` parameter to control this behavior.\n",
            "  _warn_prf(average, modifier, msg_start, len(result))\n"
          ],
          "name": "stderr"
        }
      ]
    },
    {
      "cell_type": "code",
      "metadata": {
        "id": "-Tf27eMZOvUb"
      },
      "source": [
        ""
      ],
      "execution_count": 17,
      "outputs": []
    }
  ]
}